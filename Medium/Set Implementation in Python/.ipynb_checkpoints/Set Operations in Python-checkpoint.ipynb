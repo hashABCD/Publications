{
 "cells": [
  {
   "cell_type": "markdown",
   "metadata": {},
   "source": [
    "### Defining a set"
   ]
  },
  {
   "cell_type": "code",
   "execution_count": 1,
   "metadata": {
    "ExecuteTime": {
     "end_time": "2025-03-12T22:10:30.884286Z",
     "start_time": "2025-03-12T22:10:30.862267Z"
    }
   },
   "outputs": [
    {
     "name": "stdout",
     "output_type": "stream",
     "text": [
      "Set crepe :  {'butter', 'milk', 'egg', 'flour'}\n",
      "<class 'set'>\n"
     ]
    }
   ],
   "source": [
    "# Initialize set\n",
    "crepe = {\"egg\", \"milk\", \"flour\", \"butter\"}\n",
    "print(\"Set crepe : \", crepe)\n",
    "print(type(crepe))"
   ]
  },
  {
   "cell_type": "code",
   "execution_count": 2,
   "metadata": {
    "ExecuteTime": {
     "end_time": "2025-03-12T22:10:31.785007Z",
     "start_time": "2025-03-12T22:10:31.773982Z"
    }
   },
   "outputs": [
    {
     "name": "stdout",
     "output_type": "stream",
     "text": [
      "Type of cake : <class 'set'>\n",
      "Cake ingredients using list comprehension :  {'biscuit', 'butter', 'egg', 'sugar'}\n",
      "Cake ingredients using literal :  {'biscuit', 'butter', 'egg', 'sugar'}\n"
     ]
    }
   ],
   "source": [
    "#typecast another iterable(LIST, TUPLE, DICTIONARY) to set\n",
    "cake_list = [\"egg\", \"biscuit\", \"butter\", \"sugar\"]\n",
    "cake = set(cake_list)\n",
    "print(f\"Type of cake : {type(cake)}\")\n",
    "# print(\"Cake set : \", cake)\n",
    "\n",
    "# List comprehension\n",
    "cake_v1 = {x for x in cake_list}\n",
    "print(\"Cake ingredients using list comprehension : \", cake_v1)\n",
    "\n",
    "# Using literals \n",
    "cake_v2 = {* cake_list}\n",
    "print(\"Cake ingredients using literal : \", cake_v2)"
   ]
  },
  {
   "cell_type": "markdown",
   "metadata": {},
   "source": [
    "### Union"
   ]
  },
  {
   "cell_type": "code",
   "execution_count": 3,
   "metadata": {
    "ExecuteTime": {
     "end_time": "2025-03-12T22:10:40.170604Z",
     "start_time": "2025-03-12T22:10:40.155589Z"
    }
   },
   "outputs": [
    {
     "name": "stdout",
     "output_type": "stream",
     "text": [
      "Union using union()\n",
      "{'flour', 'biscuit', 'butter', 'milk', 'sugar', 'egg'}\n",
      "\n",
      "Union using '|' operator\n",
      "{'flour', 'biscuit', 'butter', 'milk', 'sugar', 'egg'}\n"
     ]
    }
   ],
   "source": [
    "print(\"Union using union()\")\n",
    "all_ingredients = crepe.union(cake)\n",
    "print(all_ingredients)\n",
    "\n",
    "print(\"\\nUnion using '|' operator\")\n",
    "all_ingredients = crepe | cake\n",
    "print(all_ingredients)"
   ]
  },
  {
   "cell_type": "markdown",
   "metadata": {},
   "source": [
    "### Intersection"
   ]
  },
  {
   "cell_type": "code",
   "execution_count": 4,
   "metadata": {
    "ExecuteTime": {
     "end_time": "2025-03-12T22:10:45.635780Z",
     "start_time": "2025-03-12T22:10:45.623774Z"
    }
   },
   "outputs": [
    {
     "name": "stdout",
     "output_type": "stream",
     "text": [
      "Intersection using intersection()\n",
      "{'butter', 'egg'}\n",
      "\n",
      "Intersection using '&' operator\n",
      "{'butter', 'egg'}\n"
     ]
    }
   ],
   "source": [
    "print(\"Intersection using intersection()\")\n",
    "common_ingredients = crepe.intersection(cake)\n",
    "print(common_ingredients)\n",
    "\n",
    "print(\"\\nIntersection using '&' operator\")\n",
    "common_ingredients = crepe&cake\n",
    "print(common_ingredients)"
   ]
  },
  {
   "cell_type": "markdown",
   "metadata": {},
   "source": [
    "### Difference "
   ]
  },
  {
   "cell_type": "code",
   "execution_count": 5,
   "metadata": {
    "ExecuteTime": {
     "end_time": "2025-03-12T22:10:48.993608Z",
     "start_time": "2025-03-12T22:10:48.983621Z"
    }
   },
   "outputs": [
    {
     "name": "stdout",
     "output_type": "stream",
     "text": [
      "Difference using difference()\n",
      "{'biscuit', 'sugar'}\n",
      "\n",
      "Difference using '-' operator\n",
      "{'biscuit', 'sugar'}\n"
     ]
    }
   ],
   "source": [
    "print(\"Difference using difference()\")\n",
    "only_cake = cake.difference(crepe)\n",
    "print(only_cake)\n",
    "\n",
    "print(\"\\nDifference using '-' operator\")\n",
    "only_cake = cake - crepe\n",
    "print(only_cake)"
   ]
  },
  {
   "cell_type": "markdown",
   "metadata": {},
   "source": [
    "### Symmetric difference"
   ]
  },
  {
   "cell_type": "code",
   "execution_count": 6,
   "metadata": {
    "ExecuteTime": {
     "end_time": "2025-03-12T22:10:52.193730Z",
     "start_time": "2025-03-12T22:10:52.168313Z"
    }
   },
   "outputs": [
    {
     "name": "stdout",
     "output_type": "stream",
     "text": [
      "Symmetric difference using symmetric_difference()\n",
      "{'flour', 'biscuit', 'milk', 'sugar'}\n",
      "\n",
      "Symmetric difference using '^' operator\n",
      "{'flour', 'biscuit', 'milk', 'sugar'}\n"
     ]
    }
   ],
   "source": [
    "print(\"Symmetric difference using symmetric_difference()\")\n",
    "only_in_one = cake.symmetric_difference(crepe)\n",
    "print(only_in_one)\n",
    "\n",
    "print(\"\\nSymmetric difference using '^' operator\")\n",
    "only_in_one = cake ^ crepe\n",
    "print(only_in_one)"
   ]
  },
  {
   "cell_type": "code",
   "execution_count": 7,
   "metadata": {
    "ExecuteTime": {
     "end_time": "2025-03-12T22:10:55.124057Z",
     "start_time": "2025-03-12T22:10:55.090081Z"
    }
   },
   "outputs": [
    {
     "data": {
      "text/plain": [
       "{'biscuit', 'flour', 'milk', 'sugar'}"
      ]
     },
     "execution_count": 7,
     "metadata": {},
     "output_type": "execute_result"
    }
   ],
   "source": [
    "#(cake union crepe) - (cake intersection crepe)\n",
    "(cake | crepe) - (cake & crepe)"
   ]
  },
  {
   "cell_type": "code",
   "execution_count": 8,
   "metadata": {
    "ExecuteTime": {
     "end_time": "2025-03-12T22:10:56.101910Z",
     "start_time": "2025-03-12T22:10:56.083900Z"
    }
   },
   "outputs": [
    {
     "data": {
      "text/plain": [
       "{'biscuit', 'flour', 'milk', 'sugar'}"
      ]
     },
     "execution_count": 8,
     "metadata": {},
     "output_type": "execute_result"
    }
   ],
   "source": [
    "#(cake - crepe) union (crepe - cake)\n",
    "(cake - crepe) | (crepe - cake)"
   ]
  },
  {
   "cell_type": "code",
   "execution_count": null,
   "metadata": {},
   "outputs": [],
   "source": []
  },
  {
   "cell_type": "code",
   "execution_count": null,
   "metadata": {},
   "outputs": [],
   "source": []
  },
  {
   "cell_type": "code",
   "execution_count": null,
   "metadata": {},
   "outputs": [],
   "source": []
  },
  {
   "cell_type": "code",
   "execution_count": null,
   "metadata": {},
   "outputs": [],
   "source": []
  },
  {
   "cell_type": "code",
   "execution_count": null,
   "metadata": {},
   "outputs": [],
   "source": []
  },
  {
   "cell_type": "code",
   "execution_count": null,
   "metadata": {},
   "outputs": [],
   "source": []
  },
  {
   "cell_type": "code",
   "execution_count": null,
   "metadata": {},
   "outputs": [],
   "source": []
  },
  {
   "cell_type": "markdown",
   "metadata": {},
   "source": [
    "### Check if an element is present in the set"
   ]
  },
  {
   "cell_type": "code",
   "execution_count": null,
   "metadata": {
    "ExecuteTime": {
     "end_time": "2025-03-11T00:09:37.544519Z",
     "start_time": "2025-03-11T00:09:37.528894Z"
    }
   },
   "outputs": [],
   "source": [
    "print(\"flour\" in crepe)\n",
    "print(\"flour\" not in crepe)"
   ]
  },
  {
   "cell_type": "markdown",
   "metadata": {},
   "source": [
    "### Adding new item to a list"
   ]
  },
  {
   "cell_type": "code",
   "execution_count": null,
   "metadata": {
    "ExecuteTime": {
     "end_time": "2025-03-11T00:04:16.552682Z",
     "start_time": "2025-03-11T00:04:16.537024Z"
    }
   },
   "outputs": [],
   "source": [
    "crepe.add(\"honey\")\n",
    "print(crepe)"
   ]
  },
  {
   "cell_type": "markdown",
   "metadata": {},
   "source": [
    "### Remove element from set"
   ]
  },
  {
   "cell_type": "code",
   "execution_count": null,
   "metadata": {
    "ExecuteTime": {
     "end_time": "2025-03-11T00:04:17.656530Z",
     "start_time": "2025-03-11T00:04:17.640887Z"
    }
   },
   "outputs": [],
   "source": [
    "crepe.remove(\"butter\")\n",
    "print(crepe)"
   ]
  },
  {
   "cell_type": "code",
   "execution_count": null,
   "metadata": {
    "ExecuteTime": {
     "end_time": "2025-03-11T00:07:01.893316Z",
     "start_time": "2025-03-11T00:07:01.862498Z"
    }
   },
   "outputs": [],
   "source": [
    "crepe.remove(\"butter\")"
   ]
  },
  {
   "cell_type": "markdown",
   "metadata": {},
   "source": [
    "### Discard [Remove if present]"
   ]
  },
  {
   "cell_type": "code",
   "execution_count": null,
   "metadata": {
    "ExecuteTime": {
     "end_time": "2025-03-11T00:06:08.109830Z",
     "start_time": "2025-03-11T00:06:08.078576Z"
    }
   },
   "outputs": [],
   "source": [
    "crepe.discard(\"butter\")\n",
    "crepe.discard(\"honey\")\n",
    "print(crepe)"
   ]
  },
  {
   "cell_type": "markdown",
   "metadata": {},
   "source": [
    "### Equivalance"
   ]
  },
  {
   "cell_type": "code",
   "execution_count": null,
   "metadata": {
    "ExecuteTime": {
     "end_time": "2025-03-11T00:11:03.348660Z",
     "start_time": "2025-03-11T00:11:03.326495Z"
    }
   },
   "outputs": [],
   "source": [
    "crepe == cake"
   ]
  },
  {
   "cell_type": "markdown",
   "metadata": {},
   "source": [
    "### Non equivalance"
   ]
  },
  {
   "cell_type": "code",
   "execution_count": null,
   "metadata": {
    "ExecuteTime": {
     "end_time": "2025-03-11T00:11:20.227939Z",
     "start_time": "2025-03-11T00:11:20.212296Z"
    }
   },
   "outputs": [],
   "source": [
    "crepe != cake"
   ]
  },
  {
   "cell_type": "markdown",
   "metadata": {},
   "source": [
    "### Superset"
   ]
  },
  {
   "cell_type": "markdown",
   "metadata": {
    "ExecuteTime": {
     "end_time": "2025-03-11T00:11:51.782425Z",
     "start_time": "2025-03-11T00:11:51.766804Z"
    }
   },
   "source": [
    "### Proper Superset"
   ]
  },
  {
   "cell_type": "markdown",
   "metadata": {
    "ExecuteTime": {
     "end_time": "2025-03-11T00:12:36.270947Z",
     "start_time": "2025-03-11T00:12:36.255323Z"
    }
   },
   "source": [
    "### Subset"
   ]
  },
  {
   "cell_type": "markdown",
   "metadata": {},
   "source": [
    "### Proper Subset"
   ]
  },
  {
   "cell_type": "markdown",
   "metadata": {},
   "source": [
    "### Frozen Set"
   ]
  },
  {
   "cell_type": "markdown",
   "metadata": {
    "ExecuteTime": {
     "end_time": "2025-03-11T17:31:02.367064Z",
     "start_time": "2025-03-11T17:31:02.355785Z"
    }
   },
   "source": [
    "### Null set"
   ]
  },
  {
   "cell_type": "code",
   "execution_count": null,
   "metadata": {
    "ExecuteTime": {
     "end_time": "2025-03-11T17:33:52.372490Z",
     "start_time": "2025-03-11T17:33:52.360488Z"
    }
   },
   "outputs": [],
   "source": [
    "a = {*(1,2,2)}"
   ]
  },
  {
   "cell_type": "code",
   "execution_count": null,
   "metadata": {
    "ExecuteTime": {
     "end_time": "2025-03-11T17:33:54.280404Z",
     "start_time": "2025-03-11T17:33:54.264396Z"
    }
   },
   "outputs": [],
   "source": [
    "\n",
    "print(type(a))\n",
    "a"
   ]
  },
  {
   "cell_type": "code",
   "execution_count": null,
   "metadata": {
    "ExecuteTime": {
     "end_time": "2025-03-11T17:33:55.860751Z",
     "start_time": "2025-03-11T17:33:55.856750Z"
    }
   },
   "outputs": [],
   "source": [
    "a.add(1)"
   ]
  },
  {
   "cell_type": "code",
   "execution_count": null,
   "metadata": {
    "ExecuteTime": {
     "end_time": "2025-03-11T17:33:56.808358Z",
     "start_time": "2025-03-11T17:33:56.799356Z"
    }
   },
   "outputs": [],
   "source": [
    "len(a)"
   ]
  },
  {
   "cell_type": "code",
   "execution_count": null,
   "metadata": {
    "ExecuteTime": {
     "end_time": "2025-03-11T17:41:00.941368Z",
     "start_time": "2025-03-11T17:41:00.933370Z"
    }
   },
   "outputs": [],
   "source": [
    "null_set = frozenset()"
   ]
  },
  {
   "cell_type": "code",
   "execution_count": null,
   "metadata": {
    "ExecuteTime": {
     "end_time": "2025-03-11T17:41:04.222173Z",
     "start_time": "2025-03-11T17:41:04.213174Z"
    }
   },
   "outputs": [],
   "source": [
    "null_set"
   ]
  },
  {
   "cell_type": "code",
   "execution_count": null,
   "metadata": {},
   "outputs": [],
   "source": []
  }
 ],
 "metadata": {
  "kernelspec": {
   "display_name": "Python 3",
   "language": "python",
   "name": "python3"
  },
  "language_info": {
   "codemirror_mode": {
    "name": "ipython",
    "version": 3
   },
   "file_extension": ".py",
   "mimetype": "text/x-python",
   "name": "python",
   "nbconvert_exporter": "python",
   "pygments_lexer": "ipython3",
   "version": "3.7.4"
  }
 },
 "nbformat": 4,
 "nbformat_minor": 2
}
